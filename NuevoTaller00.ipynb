{
  "nbformat": 4,
  "nbformat_minor": 0,
  "metadata": {
    "colab": {
      "provenance": [],
      "toc_visible": true,
      "authorship_tag": "ABX9TyO2U26Udm+v0ByJ686bRReC",
      "include_colab_link": true
    },
    "kernelspec": {
      "name": "python3",
      "display_name": "Python 3"
    },
    "language_info": {
      "name": "python"
    }
  },
  "cells": [
    {
      "cell_type": "markdown",
      "metadata": {
        "id": "view-in-github",
        "colab_type": "text"
      },
      "source": [
        "<a href=\"https://colab.research.google.com/github/SantiagoBermon/Taller-00-IO/blob/main/NuevoTaller00.ipynb\" target=\"_parent\"><img src=\"https://colab.research.google.com/assets/colab-badge.svg\" alt=\"Open In Colab\"/></a>"
      ]
    },
    {
      "cell_type": "markdown",
      "source": [
        "# Esto es un título"
      ],
      "metadata": {
        "id": "lKDwdsjUyM16"
      }
    },
    {
      "cell_type": "markdown",
      "source": [
        "Esto es un subtítulo"
      ],
      "metadata": {
        "id": "pJck0YzLyYPk"
      }
    },
    {
      "cell_type": "code",
      "source": [
        "print(\"hola, mundo\")\n",
        "()"
      ],
      "metadata": {
        "colab": {
          "base_uri": "https://localhost:8080/"
        },
        "id": "BKNT9Q60yyi6",
        "outputId": "3e97f596-0e2a-47ad-cddf-ea4a309bf45c"
      },
      "execution_count": 3,
      "outputs": [
        {
          "output_type": "stream",
          "name": "stdout",
          "text": [
            "hola, mundo\n"
          ]
        }
      ]
    }
  ]
}